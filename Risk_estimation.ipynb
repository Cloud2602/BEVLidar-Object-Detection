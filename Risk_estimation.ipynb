{
  "nbformat": 4,
  "nbformat_minor": 0,
  "metadata": {
    "colab": {
      "provenance": [],
      "include_colab_link": true
    },
    "kernelspec": {
      "name": "python3",
      "display_name": "Python 3"
    },
    "language_info": {
      "name": "python"
    }
  },
  "cells": [
    {
      "cell_type": "markdown",
      "metadata": {
        "id": "view-in-github",
        "colab_type": "text"
      },
      "source": [
        "<a href=\"https://colab.research.google.com/github/Cloud2602/Risk-Estimation-from-Multi-Sensor-Motion-Data/blob/main/Risk_estimation.ipynb\" target=\"_parent\"><img src=\"https://colab.research.google.com/assets/colab-badge.svg\" alt=\"Open In Colab\"/></a>"
      ]
    },
    {
      "cell_type": "markdown",
      "source": [
        "# Risk Estimation from Multi Sensor Motion Data"
      ],
      "metadata": {
        "id": "VfQZxpVG6xqO"
      }
    },
    {
      "cell_type": "markdown",
      "source": [
        "### Download Dataset"
      ],
      "metadata": {
        "id": "XV0alhc-6_To"
      }
    },
    {
      "cell_type": "code",
      "source": [
        "from google.colab import drive\n",
        "drive.mount('/content/drive')\n",
        "\n",
        "!unzip \"man-truckscenes_*.zip\" -d ./data/truckscenes\n"
      ],
      "metadata": {
        "id": "DHxkVQAT7R-S",
        "outputId": "57b6be0b-8d70-4e20-c48b-f20c849e7b01",
        "colab": {
          "base_uri": "https://localhost:8080/"
        }
      },
      "execution_count": null,
      "outputs": [
        {
          "output_type": "stream",
          "name": "stdout",
          "text": [
            "Downloading...\n",
            "From: https://drive.google.com/uc?id=1rW3F8xaHr-NpQRg5ONW7txiTolngEtIk\n",
            "To: /content/man-truckscenes_metadata_v1.0-mini.zip\n",
            "100% 11.3M/11.3M [00:00<00:00, 41.5MB/s]\n",
            "Archive:  man-truckscenes_metadata_v1.0-mini.zip\n",
            "   creating: ./dataset/man-truckscenes/\n",
            "   creating: ./dataset/man-truckscenes/v1.0-mini/\n",
            "  inflating: ./dataset/man-truckscenes/v1.0-mini/sample_annotation.json  \n",
            "  inflating: ./dataset/man-truckscenes/v1.0-mini/attribute.json  \n",
            "  inflating: ./dataset/man-truckscenes/v1.0-mini/calibrated_sensor.json  \n",
            "  inflating: ./dataset/man-truckscenes/v1.0-mini/category.json  \n",
            "  inflating: ./dataset/man-truckscenes/v1.0-mini/ego_motion_cabin.json  \n",
            "  inflating: ./dataset/man-truckscenes/v1.0-mini/ego_motion_chassis.json  \n",
            "  inflating: ./dataset/man-truckscenes/v1.0-mini/ego_pose.json  \n",
            "  inflating: ./dataset/man-truckscenes/v1.0-mini/sample.json  \n",
            "  inflating: ./dataset/man-truckscenes/v1.0-mini/instance.json  \n",
            "  inflating: ./dataset/man-truckscenes/v1.0-mini/sample_data.json  \n",
            "  inflating: ./dataset/man-truckscenes/v1.0-mini/scene.json  \n",
            "  inflating: ./dataset/man-truckscenes/v1.0-mini/sensor.json  \n",
            "  inflating: ./dataset/man-truckscenes/v1.0-mini/visibility.json  \n"
          ]
        }
      ]
    },
    {
      "cell_type": "markdown",
      "source": [
        "Open"
      ],
      "metadata": {
        "id": "OKlgqKcU_l7T"
      }
    },
    {
      "cell_type": "code",
      "source": [
        "!git clone https://github.com/Cloud2602/Risk-Estimation-from-Multi-Sensor-Motion-Data.git"
      ],
      "metadata": {
        "id": "vDzRz4X5_lhy"
      },
      "execution_count": null,
      "outputs": []
    }
  ]
}